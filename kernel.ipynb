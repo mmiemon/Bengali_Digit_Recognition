{
  "cells": [
    {
      "metadata": {
        "_uuid": "8f2839f25d086af736a60e9eeb907d3b93b6e0e5",
        "_cell_guid": "b1076dfc-b9ad-4769-8c92-a6c4dae69d19",
        "trusted": true,
        "collapsed": true
      },
      "cell_type": "code",
      "source": "# This Python 3 environment comes with many helpful analytics libraries installed\n# It is defined by the kaggle/python docker image: https://github.com/kaggle/docker-python\n# For example, here's several helpful packages to load in \n\nimport numpy as np # linear algebra\nimport pandas as pd # data processing, CSV file I/O (e.g. pd.read_csv)\n\n# Input data files are available in the \"../input/\" directory.\n# For example, running this (by clicking run or pressing Shift+Enter) will list the files in the input directory\n\nimport os\nprint(os.listdir(\"../input\"))\n\n# Any results you write to the current directory are saved as output.",
      "execution_count": null,
      "outputs": []
    },
    {
      "metadata": {
        "_cell_guid": "79c7e3d0-c299-4dcb-8224-4455121ee9b0",
        "_uuid": "d629ff2d2480ee46fbb7e2d37f6b5fab8052498a",
        "trusted": true,
        "collapsed": true
      },
      "cell_type": "code",
      "source": "# Importing necessary libraries\nimport numpy as np\nimport os\nimport glob\nimport cv2\nimport matplotlib.pyplot as plt\nimport pandas as pd\nimport pickle\nfrom keras.utils import to_categorical\nfrom keras.layers import Dense, Input, Conv2D, Flatten, MaxPool2D, Activation,Dropout,ZeroPadding2D,MaxPooling2D,concatenate\nfrom keras.models import Model\nfrom keras.callbacks import ModelCheckpoint\nfrom keras import backend as K\nfrom keras.applications.inception_v3 import InceptionV3\nfrom keras.applications.inception_v3 import preprocess_input\nfrom keras.applications.inception_v3 import decode_predictions\nfrom keras.preprocessing import image\nimport numpy as np\nimport matplotlib.pyplot as plt\nfrom keras.applications.vgg19 import VGG19\nfrom keras.preprocessing.image import ImageDataGenerator",
      "execution_count": null,
      "outputs": []
    },
    {
      "metadata": {
        "trusted": true,
        "collapsed": true,
        "_uuid": "c82c085395abf0513afb40da7e3b3de5fecbb084"
      },
      "cell_type": "code",
      "source": "#Declaring constants\nFIG_WIDTH=20 # Width of figure\nHEIGHT_PER_ROW=3 # Height of each row when showing a figure which consists of multiple rows\nRESIZE_DIM=48 # The images will be resized to 28x28 pixels",
      "execution_count": null,
      "outputs": []
    },
    {
      "metadata": {
        "trusted": true,
        "collapsed": true,
        "_uuid": "250a488c24172c17bf4849a454ffab66f86705b5"
      },
      "cell_type": "code",
      "source": "data_dir=os.path.join('..','input')\npaths_train_a=glob.glob(os.path.join(data_dir,'training-a','*.png'))\npaths_train_b=glob.glob(os.path.join(data_dir,'training-b','*.png'))\npaths_train_e=glob.glob(os.path.join(data_dir,'training-e','*.png'))\npaths_train_c=glob.glob(os.path.join(data_dir,'training-c','*.png'))\npaths_train_d=glob.glob(os.path.join(data_dir,'training-d','*.png'))\npaths_train_all=paths_train_a+paths_train_b+paths_train_c+paths_train_d+paths_train_e\n\npaths_test_a=glob.glob(os.path.join(data_dir,'testing-a','*.png'))\npaths_test_b=glob.glob(os.path.join(data_dir,'testing-b','*.png'))\npaths_test_e=glob.glob(os.path.join(data_dir,'testing-e','*.png'))\npaths_test_c=glob.glob(os.path.join(data_dir,'testing-c','*.png'))\npaths_test_d=glob.glob(os.path.join(data_dir,'testing-d','*.png'))\npaths_test_f=glob.glob(os.path.join(data_dir,'testing-f','*.png'))+glob.glob(os.path.join(data_dir,'testing-f','*.JPG'))\npaths_test_auga=glob.glob(os.path.join(data_dir,'testing-auga','*.png'))\npaths_test_augc=glob.glob(os.path.join(data_dir,'testing-augc','*.png'))\npaths_test_all=paths_test_a+paths_test_b+paths_test_c+paths_test_d+paths_test_e+paths_test_f+paths_test_auga+paths_test_augc\n\npath_label_train_a=os.path.join(data_dir,'training-a.csv')\npath_label_train_b=os.path.join(data_dir,'training-b.csv')\npath_label_train_e=os.path.join(data_dir,'training-e.csv')\npath_label_train_c=os.path.join(data_dir,'training-c.csv')\npath_label_train_d=os.path.join(data_dir,'training-d.csv')",
      "execution_count": null,
      "outputs": []
    },
    {
      "metadata": {
        "trusted": true,
        "collapsed": true,
        "_uuid": "c3be6a868f3b9974c32e4fb270d33d99ade82176"
      },
      "cell_type": "code",
      "source": "def get_key(path):\n    # seperates the key of an image from the filepath\n    key=path.split(sep=os.sep)[-1]\n    return key\n\ndef get_data(paths_img,path_label=None,resize_dim=None):\n    '''reads images from the filepaths, resizes them (if given), and returns them in a numpy array\n    Args:\n        paths_img: image filepaths\n        path_label: pass image label filepaths while processing training data, defaults to None while processing testing data\n        resize_dim: if given, the image is resized to resize_dim x resize_dim (optional)\n    Returns:\n        X: group of images\n        y: categorical true labels\n    '''\n    X=[] # initialize empty list for resized images\n    for i,path in enumerate(paths_img):\n        img=cv2.imread(path,cv2.IMREAD_COLOR) # images loaded in color (BGR)\n        img=cv2.cvtColor(img,cv2.COLOR_BGR2RGB)\n        if resize_dim is not None:\n            img=cv2.resize(img,(resize_dim,resize_dim),interpolation=cv2.INTER_AREA) # resize image to 28x28\n#         X.append(np.expand_dims(img,axis=2)) # expand image to 28x28x1 and append to the list.\n        X.append(img) # expand image to 28x28x1 and append to the list\n        # display progress\n        if i==len(paths_img)-1:\n            end='\\n'\n        else: end='\\r'\n        print('processed {}/{}'.format(i+1,len(paths_img)),end=end)\n        \n    X=np.array(X) # tranform list to numpy array\n    if  path_label is None:\n        return X\n    else:\n        df = pd.read_csv(path_label) # read labels\n        df=df.set_index('filename') \n        y_label=[df.loc[get_key(path)]['digit'] for path in  paths_img] # get the labels corresponding to the images\n        y=to_categorical(y_label,10) # transfrom integer value to categorical variable\n        return X, y\n        \ndef imshow_group(X,y,y_pred=None,n_per_row=10,phase='processed'):\n    '''helper function to visualize a group of images along with their categorical true labels (y) and prediction probabilities.\n    Args:\n        X: images\n        y: categorical true labels\n        y_pred: predicted class probabilities\n        n_per_row: number of images per row to be plotted\n        phase: If the images are plotted after resizing, pass 'processed' to phase argument. \n            It will plot the image and its true label. If the image is plotted after prediction \n            phase, pass predicted class probabilities to y_pred and 'prediction' to the phase argument. \n            It will plot the image, the true label, and it's top 3 predictions with highest probabilities.\n    '''\n    n_sample=len(X)\n    img_dim=X.shape[1]\n    j=np.ceil(n_sample/n_per_row)\n    fig=plt.figure(figsize=(FIG_WIDTH,HEIGHT_PER_ROW*j))\n    for i,img in enumerate(X):\n        plt.subplot(j,n_per_row,i+1)\n#         img_sq=np.squeeze(img,axis=2)\n#         plt.imshow(img_sq,cmap='gray')\n        plt.imshow(img)\n        if phase=='processed':\n            plt.title(np.argmax(y[i]))\n        if phase=='prediction':\n            top_n=3 # top 3 predictions with highest probabilities\n            ind_sorted=np.argsort(y_pred[i])[::-1]\n            h=img_dim+4\n            for k in range(top_n):\n                string='pred: {} ({:.0f}%)\\n'.format(ind_sorted[k],y_pred[i,ind_sorted[k]]*100)\n                plt.text(img_dim/2, h, string, horizontalalignment='center',verticalalignment='center')\n                h+=4\n            if y is not None:\n                plt.text(img_dim/2, -4, 'true label: {}'.format(np.argmax(y[i])), \n                         horizontalalignment='center',verticalalignment='center')\n        plt.axis('off')\n    plt.show()\n\ndef create_submission(predictions,keys,path):\n    result = pd.DataFrame(\n        predictions,\n        columns=['label'],\n        index=keys\n        )\n    result.index.name='key'\n    result.to_csv(path, index=True)",
      "execution_count": null,
      "outputs": []
    },
    {
      "metadata": {
        "trusted": true,
        "_uuid": "d67d6690c7953d952a8f2e10a9d2f42c53b3a3d2",
        "collapsed": true
      },
      "cell_type": "code",
      "source": "X_train_a,y_train_a=get_data(paths_train_a,path_label_train_a,resize_dim=RESIZE_DIM)\nX_train_b,y_train_b=get_data(paths_train_b,path_label_train_b,resize_dim=RESIZE_DIM)\nX_train_c,y_train_c=get_data(paths_train_c,path_label_train_c,resize_dim=RESIZE_DIM)\nX_train_d,y_train_d=get_data(paths_train_d,path_label_train_d,resize_dim=RESIZE_DIM)\nX_train_e,y_train_e=get_data(paths_train_e,path_label_train_e,resize_dim=RESIZE_DIM)",
      "execution_count": null,
      "outputs": []
    },
    {
      "metadata": {
        "trusted": true,
        "_uuid": "edce8102271a1736f1b8cf6806b48ed6010fba5b",
        "collapsed": true
      },
      "cell_type": "code",
      "source": "X_train_all=np.concatenate((X_train_a,X_train_b,X_train_c,X_train_d,X_train_e),axis=0)\ny_train_all=np.concatenate((y_train_a,y_train_b,y_train_c,y_train_d,y_train_e),axis=0)\nX_train_all.shape, y_train_all.shape",
      "execution_count": null,
      "outputs": []
    },
    {
      "metadata": {
        "trusted": true,
        "_uuid": "5d08fcc4e565f322917a330ba469395f93899956",
        "collapsed": true
      },
      "cell_type": "code",
      "source": "X_test_a=get_data(paths_test_a,resize_dim=RESIZE_DIM)\nX_test_b=get_data(paths_test_b,resize_dim=RESIZE_DIM)\nX_test_c=get_data(paths_test_c,resize_dim=RESIZE_DIM)\nX_test_d=get_data(paths_test_d,resize_dim=RESIZE_DIM)\nX_test_e=get_data(paths_test_e,resize_dim=RESIZE_DIM)\nX_test_f=get_data(paths_test_f,resize_dim=RESIZE_DIM)\nX_test_auga=get_data(paths_test_auga,resize_dim=RESIZE_DIM)\nX_test_augc=get_data(paths_test_augc,resize_dim=RESIZE_DIM)",
      "execution_count": null,
      "outputs": []
    },
    {
      "metadata": {
        "trusted": true,
        "collapsed": true,
        "_uuid": "6f6e0a186e8bfc1079e2210a2a76c84487938092"
      },
      "cell_type": "code",
      "source": "X_test_all=np.concatenate((X_test_a,X_test_b,X_test_c,X_test_d,X_test_e,X_test_f,X_test_auga,X_test_augc))",
      "execution_count": null,
      "outputs": []
    },
    {
      "metadata": {
        "trusted": true,
        "collapsed": true,
        "_uuid": "93a9ac218a3d879b813e4d6fa1e2c2bcc130cdb8"
      },
      "cell_type": "code",
      "source": "indices=list(range(len(X_train_all)))\nnp.random.seed(42)\nnp.random.shuffle(indices)\n\nind=int(len(indices)*0.80)\n# train data\nX_train=X_train_all[indices[:ind]] \ny_train=y_train_all[indices[:ind]]\n# validation data\nX_val=X_train_all[indices[-(len(indices)-ind):]] \ny_val=y_train_all[indices[-(len(indices)-ind):]]",
      "execution_count": null,
      "outputs": []
    },
    {
      "metadata": {
        "trusted": true,
        "_uuid": "a740f55be8910b165b4a6eeda04bf4f7808aaa50",
        "collapsed": true
      },
      "cell_type": "code",
      "source": "from keras.models import Sequential\ndef get_model():\n    input_img = Input(shape = (RESIZE_DIM,RESIZE_DIM,3))\n    \n#     inception layer\n    tower_1 = Conv2D(64, (1,1), padding='same', activation='relu')(input_img)\n    tower_1 = Conv2D(64, (3,3), padding='same', activation='relu')(tower_1)\n    tower_2 = Conv2D(64, (1,1), padding='same', activation='relu')(input_img)\n    tower_2 = Conv2D(64, (5,5), padding='same', activation='relu')(tower_2)\n    tower_3 = MaxPooling2D((3,3), strides=(1,1), padding='same')(input_img)\n    tower_3 = Conv2D(64, (1,1), padding='same', activation='relu')(tower_3)\n    output = concatenate([tower_1, tower_2, tower_3], axis = 3)\n\n\n#     CNN layers\n    x = Conv2D(32, (5, 5), input_shape=(RESIZE_DIM,RESIZE_DIM,3),activation='relu', padding='same')(output)\n    x = Conv2D(32, (5, 5), activation='relu', padding='same')(x)\n    x = MaxPooling2D(pool_size=(2, 2))(x)\n\n    x = Conv2D(64, (3, 3),activation='relu',padding='same')(x)\n    x = Conv2D(64, (3, 3),activation='relu',padding='same')(x)\n    x = MaxPooling2D(pool_size=(2, 2))(x)\n\n    x = Conv2D(128, (3, 3),activation='relu',padding='same')(x)\n    x = Conv2D(128, (3, 3),activation='relu',padding='same')(x)\n    x = MaxPooling2D(pool_size=(2, 2))(x)\n    \n    x = Conv2D(256, (3, 3),activation='relu',padding='same')(x)\n    x = Conv2D(256, (3, 3),activation='relu',padding='same')(x)\n    x = MaxPooling2D(pool_size=(2, 2))(x)\n\n    \n#    dense layer \n    x = Flatten()(x)\n    x = Dense(64)(x)\n    x = Activation('relu')(x)\n    x = Dropout(0.2)(x)\n    x = Dense(10)(x)\n    x = Activation('softmax')(x)\n    \n    model = Model(inputs = input_img, outputs = x)\n    \n    model.compile(loss='categorical_crossentropy', metrics=['accuracy'],optimizer='adam')\n    \n    \n    model.summary()\n    return model\nmodel=get_model()\nmodel.summary()",
      "execution_count": null,
      "outputs": []
    },
    {
      "metadata": {
        "trusted": true,
        "_uuid": "0630bb2c199bc9de5d080d4d48bb0fc3f56c0cdf",
        "collapsed": true
      },
      "cell_type": "code",
      "source": "path_model='model_simple_keras_starter.h5' # save model at this location after each epoch\nK.tensorflow_backend.clear_session() # destroys the current graph and builds a new one\nmodel=get_model() # create the model\n# augment(model)\nK.set_value(model.optimizer.lr,1e-3) # set the learning rate\n# fit the model\nh=model.fit(x=X_train,     \n            y=y_train, \n            batch_size=64, \n            epochs=20, \n            verbose=1, \n            validation_data=(X_val,y_val),\n            shuffle=True,\n            callbacks=[\n                ModelCheckpoint(filepath=path_model),\n            ]\n            )",
      "execution_count": null,
      "outputs": []
    },
    {
      "metadata": {
        "trusted": true,
        "_uuid": "db857161dc94b69b8f5cf2fb6b80ffcd8d05830a",
        "collapsed": true
      },
      "cell_type": "code",
      "source": "predictions_prob=model.predict(X_test_all) # get predictions for all the testing data",
      "execution_count": null,
      "outputs": []
    },
    {
      "metadata": {
        "trusted": true,
        "collapsed": true,
        "_uuid": "83b40c2a2347ea946f0260842854ea47948a311a"
      },
      "cell_type": "code",
      "source": "n_sample=200\nnp.random.seed(42)\nind=np.random.randint(0,len(X_test_all), size=n_sample)",
      "execution_count": null,
      "outputs": []
    },
    {
      "metadata": {
        "trusted": true,
        "_uuid": "7bbb96500766f29a47d740545ff4d08963883427",
        "collapsed": true
      },
      "cell_type": "code",
      "source": "imshow_group(X=X_test_all[ind],y=None,y_pred=predictions_prob[ind], phase='prediction')",
      "execution_count": null,
      "outputs": []
    },
    {
      "metadata": {
        "trusted": true,
        "collapsed": true,
        "_uuid": "d11af4a94eb9f3bbf72ee0689e788023dfbeb064"
      },
      "cell_type": "code",
      "source": "labels=[np.argmax(pred) for pred in predictions_prob]",
      "execution_count": null,
      "outputs": []
    },
    {
      "metadata": {
        "trusted": true,
        "collapsed": true,
        "_uuid": "52c8fc6f8fc523e3e589338bb23aa68ad7e58543"
      },
      "cell_type": "code",
      "source": "keys=[get_key(path) for path in paths_test_all ]",
      "execution_count": null,
      "outputs": []
    },
    {
      "metadata": {
        "trusted": true,
        "collapsed": true,
        "_uuid": "6159f2180a181a7f96f3436865e362a93900c277"
      },
      "cell_type": "code",
      "source": "create_submission(predictions=labels,keys=keys,path='submission_simple_keras_starter.csv')",
      "execution_count": null,
      "outputs": []
    },
    {
      "metadata": {
        "trusted": true,
        "_uuid": "0295e0d7a235baa76ce31b80bd83405f052d8041",
        "collapsed": true
      },
      "cell_type": "code",
      "source": "ls ",
      "execution_count": null,
      "outputs": []
    },
    {
      "metadata": {
        "trusted": true,
        "collapsed": true,
        "_uuid": "c61c7b0050f1693a61f209e2eb95fcb18d9c85f8"
      },
      "cell_type": "code",
      "source": "",
      "execution_count": null,
      "outputs": []
    }
  ],
  "metadata": {
    "kernelspec": {
      "display_name": "Python 3",
      "language": "python",
      "name": "python3"
    },
    "language_info": {
      "name": "python",
      "version": "3.6.4",
      "mimetype": "text/x-python",
      "codemirror_mode": {
        "name": "ipython",
        "version": 3
      },
      "pygments_lexer": "ipython3",
      "nbconvert_exporter": "python",
      "file_extension": ".py"
    }
  },
  "nbformat": 4,
  "nbformat_minor": 1
}